{
 "cells": [
  {
   "cell_type": "code",
   "execution_count": 1,
   "metadata": {
    "collapsed": true
   },
   "outputs": [],
   "source": [
    "import simplemdx"
   ]
  },
  {
   "cell_type": "code",
   "execution_count": 2,
   "metadata": {
    "collapsed": false
   },
   "outputs": [],
   "source": [
    "import pandas as pd"
   ]
  },
  {
   "cell_type": "code",
   "execution_count": 3,
   "metadata": {
    "collapsed": true
   },
   "outputs": [],
   "source": [
    "from simplemdx.parser import Parser"
   ]
  },
  {
   "cell_type": "code",
   "execution_count": 4,
   "metadata": {
    "collapsed": false
   },
   "outputs": [
    {
     "name": "stderr",
     "output_type": "stream",
     "text": [
      "INFO:root:Trial MDX detected\n"
     ]
    }
   ],
   "source": [
    "a = Parser('tests/test_files/1477~ac~Walking 01.mdx')"
   ]
  },
  {
   "cell_type": "code",
   "execution_count": 6,
   "metadata": {
    "collapsed": false
   },
   "outputs": [],
   "source": [
    "j = a.markers.toPandas()"
   ]
  },
  {
   "cell_type": "code",
   "execution_count": 7,
   "metadata": {
    "collapsed": false
   },
   "outputs": [
    {
     "data": {
      "text/html": [
       "<div>\n",
       "<table border=\"1\" class=\"dataframe\">\n",
       "  <thead>\n",
       "    <tr style=\"text-align: right;\">\n",
       "      <th></th>\n",
       "      <th>C7 s</th>\n",
       "      <th>LA</th>\n",
       "      <th>LCCG</th>\n",
       "      <th>LFCG</th>\n",
       "      <th>LHP</th>\n",
       "      <th>LK</th>\n",
       "      <th>LTCG</th>\n",
       "      <th>MIDASIS</th>\n",
       "      <th>PO</th>\n",
       "      <th>RA</th>\n",
       "      <th>...</th>\n",
       "      <th>r knee 1</th>\n",
       "      <th>r knee 1 s</th>\n",
       "      <th>r mall</th>\n",
       "      <th>r mall s</th>\n",
       "      <th>r met</th>\n",
       "      <th>r met s</th>\n",
       "      <th>r should</th>\n",
       "      <th>r should s</th>\n",
       "      <th>sacrum</th>\n",
       "      <th>sacrum s</th>\n",
       "    </tr>\n",
       "  </thead>\n",
       "  <tbody>\n",
       "    <tr>\n",
       "      <th>X</th>\n",
       "      <td>[None, None, None, None, None, None, None, Non...</td>\n",
       "      <td>[None, None, None, None, None, None, None, Non...</td>\n",
       "      <td>[None, None, None, None, None, None, None, Non...</td>\n",
       "      <td>[None, None, None, None, None, None, None, Non...</td>\n",
       "      <td>[None, None, None, None, None, None, None, Non...</td>\n",
       "      <td>[None, None, None, None, None, None, None, Non...</td>\n",
       "      <td>[None, None, None, None, None, None, None, Non...</td>\n",
       "      <td>[None, None, None, None, None, None, None, Non...</td>\n",
       "      <td>[None, None, None, None, None, None, None, Non...</td>\n",
       "      <td>[None, None, None, None, None, None, None, Non...</td>\n",
       "      <td>...</td>\n",
       "      <td>[None, None, None, None, None, None, None, Non...</td>\n",
       "      <td>[None, None, None, None, None, None, None, Non...</td>\n",
       "      <td>[None, None, None, None, None, None, None, Non...</td>\n",
       "      <td>[None, None, None, None, None, None, None, Non...</td>\n",
       "      <td>[4.3875, 4.3875, 4.3877, 4.3878, 4.3876, 4.387...</td>\n",
       "      <td>[4.3875, 4.3876, 4.3876, 4.3876, 4.3876, 4.387...</td>\n",
       "      <td>[None, None, None, None, None, None, None, Non...</td>\n",
       "      <td>[None, None, None, None, None, None, None, Non...</td>\n",
       "      <td>[None, None, None, None, None, None, None, Non...</td>\n",
       "      <td>[None, None, None, None, None, None, None, Non...</td>\n",
       "    </tr>\n",
       "    <tr>\n",
       "      <th>Y</th>\n",
       "      <td>[None, None, None, None, None, None, None, Non...</td>\n",
       "      <td>[None, None, None, None, None, None, None, Non...</td>\n",
       "      <td>[None, None, None, None, None, None, None, Non...</td>\n",
       "      <td>[None, None, None, None, None, None, None, Non...</td>\n",
       "      <td>[None, None, None, None, None, None, None, Non...</td>\n",
       "      <td>[None, None, None, None, None, None, None, Non...</td>\n",
       "      <td>[None, None, None, None, None, None, None, Non...</td>\n",
       "      <td>[None, None, None, None, None, None, None, Non...</td>\n",
       "      <td>[None, None, None, None, None, None, None, Non...</td>\n",
       "      <td>[None, None, None, None, None, None, None, Non...</td>\n",
       "      <td>...</td>\n",
       "      <td>[None, None, None, None, None, None, None, Non...</td>\n",
       "      <td>[None, None, None, None, None, None, None, Non...</td>\n",
       "      <td>[None, None, None, None, None, None, None, Non...</td>\n",
       "      <td>[None, None, None, None, None, None, None, Non...</td>\n",
       "      <td>[0.036, 0.0359, 0.0357, 0.0355, 0.0356, 0.0359...</td>\n",
       "      <td>[0.0359, 0.0358, 0.0357, 0.0357, 0.0358, 0.035...</td>\n",
       "      <td>[None, None, None, None, None, None, None, Non...</td>\n",
       "      <td>[None, None, None, None, None, None, None, Non...</td>\n",
       "      <td>[None, None, None, None, None, None, None, Non...</td>\n",
       "      <td>[None, None, None, None, None, None, None, Non...</td>\n",
       "    </tr>\n",
       "    <tr>\n",
       "      <th>Z</th>\n",
       "      <td>[None, None, None, None, None, None, None, Non...</td>\n",
       "      <td>[None, None, None, None, None, None, None, Non...</td>\n",
       "      <td>[None, None, None, None, None, None, None, Non...</td>\n",
       "      <td>[None, None, None, None, None, None, None, Non...</td>\n",
       "      <td>[None, None, None, None, None, None, None, Non...</td>\n",
       "      <td>[None, None, None, None, None, None, None, Non...</td>\n",
       "      <td>[None, None, None, None, None, None, None, Non...</td>\n",
       "      <td>[None, None, None, None, None, None, None, Non...</td>\n",
       "      <td>[None, None, None, None, None, None, None, Non...</td>\n",
       "      <td>[None, None, None, None, None, None, None, Non...</td>\n",
       "      <td>...</td>\n",
       "      <td>[None, None, None, None, None, None, None, Non...</td>\n",
       "      <td>[None, None, None, None, None, None, None, Non...</td>\n",
       "      <td>[None, None, None, None, None, None, None, Non...</td>\n",
       "      <td>[None, None, None, None, None, None, None, Non...</td>\n",
       "      <td>[0.2424, 0.2425, 0.2426, 0.2426, 0.2426, 0.242...</td>\n",
       "      <td>[0.2425, 0.2425, 0.2425, 0.2425, 0.2425, 0.242...</td>\n",
       "      <td>[None, None, None, None, None, None, None, Non...</td>\n",
       "      <td>[None, None, None, None, None, None, None, Non...</td>\n",
       "      <td>[None, None, None, None, None, None, None, Non...</td>\n",
       "      <td>[None, None, None, None, None, None, None, Non...</td>\n",
       "    </tr>\n",
       "  </tbody>\n",
       "</table>\n",
       "<p>3 rows × 53 columns</p>\n",
       "</div>"
      ],
      "text/plain": [
       "                                                C7 s  \\\n",
       "X  [None, None, None, None, None, None, None, Non...   \n",
       "Y  [None, None, None, None, None, None, None, Non...   \n",
       "Z  [None, None, None, None, None, None, None, Non...   \n",
       "\n",
       "                                                  LA  \\\n",
       "X  [None, None, None, None, None, None, None, Non...   \n",
       "Y  [None, None, None, None, None, None, None, Non...   \n",
       "Z  [None, None, None, None, None, None, None, Non...   \n",
       "\n",
       "                                                LCCG  \\\n",
       "X  [None, None, None, None, None, None, None, Non...   \n",
       "Y  [None, None, None, None, None, None, None, Non...   \n",
       "Z  [None, None, None, None, None, None, None, Non...   \n",
       "\n",
       "                                                LFCG  \\\n",
       "X  [None, None, None, None, None, None, None, Non...   \n",
       "Y  [None, None, None, None, None, None, None, Non...   \n",
       "Z  [None, None, None, None, None, None, None, Non...   \n",
       "\n",
       "                                                 LHP  \\\n",
       "X  [None, None, None, None, None, None, None, Non...   \n",
       "Y  [None, None, None, None, None, None, None, Non...   \n",
       "Z  [None, None, None, None, None, None, None, Non...   \n",
       "\n",
       "                                                  LK  \\\n",
       "X  [None, None, None, None, None, None, None, Non...   \n",
       "Y  [None, None, None, None, None, None, None, Non...   \n",
       "Z  [None, None, None, None, None, None, None, Non...   \n",
       "\n",
       "                                                LTCG  \\\n",
       "X  [None, None, None, None, None, None, None, Non...   \n",
       "Y  [None, None, None, None, None, None, None, Non...   \n",
       "Z  [None, None, None, None, None, None, None, Non...   \n",
       "\n",
       "                                             MIDASIS  \\\n",
       "X  [None, None, None, None, None, None, None, Non...   \n",
       "Y  [None, None, None, None, None, None, None, Non...   \n",
       "Z  [None, None, None, None, None, None, None, Non...   \n",
       "\n",
       "                                                  PO  \\\n",
       "X  [None, None, None, None, None, None, None, Non...   \n",
       "Y  [None, None, None, None, None, None, None, Non...   \n",
       "Z  [None, None, None, None, None, None, None, Non...   \n",
       "\n",
       "                                                  RA  \\\n",
       "X  [None, None, None, None, None, None, None, Non...   \n",
       "Y  [None, None, None, None, None, None, None, Non...   \n",
       "Z  [None, None, None, None, None, None, None, Non...   \n",
       "\n",
       "                         ...                          \\\n",
       "X                        ...                           \n",
       "Y                        ...                           \n",
       "Z                        ...                           \n",
       "\n",
       "                                            r knee 1  \\\n",
       "X  [None, None, None, None, None, None, None, Non...   \n",
       "Y  [None, None, None, None, None, None, None, Non...   \n",
       "Z  [None, None, None, None, None, None, None, Non...   \n",
       "\n",
       "                                          r knee 1 s  \\\n",
       "X  [None, None, None, None, None, None, None, Non...   \n",
       "Y  [None, None, None, None, None, None, None, Non...   \n",
       "Z  [None, None, None, None, None, None, None, Non...   \n",
       "\n",
       "                                              r mall  \\\n",
       "X  [None, None, None, None, None, None, None, Non...   \n",
       "Y  [None, None, None, None, None, None, None, Non...   \n",
       "Z  [None, None, None, None, None, None, None, Non...   \n",
       "\n",
       "                                            r mall s  \\\n",
       "X  [None, None, None, None, None, None, None, Non...   \n",
       "Y  [None, None, None, None, None, None, None, Non...   \n",
       "Z  [None, None, None, None, None, None, None, Non...   \n",
       "\n",
       "                                               r met  \\\n",
       "X  [4.3875, 4.3875, 4.3877, 4.3878, 4.3876, 4.387...   \n",
       "Y  [0.036, 0.0359, 0.0357, 0.0355, 0.0356, 0.0359...   \n",
       "Z  [0.2424, 0.2425, 0.2426, 0.2426, 0.2426, 0.242...   \n",
       "\n",
       "                                             r met s  \\\n",
       "X  [4.3875, 4.3876, 4.3876, 4.3876, 4.3876, 4.387...   \n",
       "Y  [0.0359, 0.0358, 0.0357, 0.0357, 0.0358, 0.035...   \n",
       "Z  [0.2425, 0.2425, 0.2425, 0.2425, 0.2425, 0.242...   \n",
       "\n",
       "                                            r should  \\\n",
       "X  [None, None, None, None, None, None, None, Non...   \n",
       "Y  [None, None, None, None, None, None, None, Non...   \n",
       "Z  [None, None, None, None, None, None, None, Non...   \n",
       "\n",
       "                                          r should s  \\\n",
       "X  [None, None, None, None, None, None, None, Non...   \n",
       "Y  [None, None, None, None, None, None, None, Non...   \n",
       "Z  [None, None, None, None, None, None, None, Non...   \n",
       "\n",
       "                                              sacrum  \\\n",
       "X  [None, None, None, None, None, None, None, Non...   \n",
       "Y  [None, None, None, None, None, None, None, Non...   \n",
       "Z  [None, None, None, None, None, None, None, Non...   \n",
       "\n",
       "                                            sacrum s  \n",
       "X  [None, None, None, None, None, None, None, Non...  \n",
       "Y  [None, None, None, None, None, None, None, Non...  \n",
       "Z  [None, None, None, None, None, None, None, Non...  \n",
       "\n",
       "[3 rows x 53 columns]"
      ]
     },
     "execution_count": 7,
     "metadata": {},
     "output_type": "execute_result"
    }
   ],
   "source": [
    "pd.DataFrame(j)"
   ]
  },
  {
   "cell_type": "code",
   "execution_count": null,
   "metadata": {
    "collapsed": true
   },
   "outputs": [],
   "source": []
  }
 ],
 "metadata": {
  "kernelspec": {
   "display_name": "Python 3",
   "language": "python",
   "name": "python3"
  },
  "language_info": {
   "codemirror_mode": {
    "name": "ipython",
    "version": 3
   },
   "file_extension": ".py",
   "mimetype": "text/x-python",
   "name": "python",
   "nbconvert_exporter": "python",
   "pygments_lexer": "ipython3",
   "version": "3.6.0"
  }
 },
 "nbformat": 4,
 "nbformat_minor": 2
}
